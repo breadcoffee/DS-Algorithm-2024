{
 "cells": [
  {
   "cell_type": "code",
   "execution_count": 1,
   "metadata": {},
   "outputs": [],
   "source": [
    "# file : ds01_syntax.ipynb\n",
    "# desc : 파이썬 기본문법 복습"
   ]
  },
  {
   "cell_type": "markdown",
   "metadata": {},
   "source": [
    "## 자료구조와 알고리즘\n",
    "- 파이썬 기본문법 복습\n",
    "1. 변수 & 콘솔 출력"
   ]
  },
  {
   "cell_type": "code",
   "execution_count": 9,
   "metadata": {},
   "outputs": [
    {
     "data": {
      "text/plain": [
       "(False, 1, 'January', 8.8)"
      ]
     },
     "execution_count": 9,
     "metadata": {},
     "output_type": "execute_result"
    }
   ],
   "source": [
    "# 코딩 네이밍 룰\n",
    "# 변수 앞 i = 정수형, f = 실수, s = 문자형, is = Boolean형\n",
    "isBasic = True\n",
    "iMonth = 12\n",
    "sMonth = 'December'\n",
    "fTaxRate = 10.2\n",
    "\n",
    "isBasic, iMonth, sMonth, fTaxRate = False, 1, 'January', 8.8\n",
    "isBasic, iMonth, sMonth, fTaxRate"
   ]
  },
  {
   "cell_type": "code",
   "execution_count": 10,
   "metadata": {},
   "outputs": [
    {
     "name": "stdout",
     "output_type": "stream",
     "text": [
      "<class 'bool'> <class 'int'> <class 'str'> <class 'float'>\n"
     ]
    }
   ],
   "source": [
    "# 각 변수별 타입 확인, 주피터 노트북에서는 변수나 함수만 써서 화면출력 가능\n",
    "print(type(isBasic), type(iMonth), type(sMonth), type(fTaxRate))"
   ]
  },
  {
   "cell_type": "code",
   "execution_count": 37,
   "metadata": {},
   "outputs": [
    {
     "name": "stdout",
     "output_type": "stream",
     "text": [
      "3\n"
     ]
    }
   ],
   "source": [
    "print('%d' % (2 | 1)) # &, | 연산자는 숫자의 이진수를 and, or 연산하여 출력"
   ]
  },
  {
   "cell_type": "code",
   "execution_count": 38,
   "metadata": {},
   "outputs": [
    {
     "name": "stdout",
     "output_type": "stream",
     "text": [
      "01 / January / 8.80 / H / ff / 71\n"
     ]
    }
   ],
   "source": [
    "# %문자열 포맷에는 2진수가 없음 (C언어로부터 넘어온 것)\n",
    "print('%02d / %s / %.2f / %c / %x / %o' % (iMonth, sMonth, fTaxRate, 'H', 255, 57))"
   ]
  },
  {
   "cell_type": "code",
   "execution_count": 39,
   "metadata": {},
   "outputs": [
    {
     "name": "stdout",
     "output_type": "stream",
     "text": [
      "1 / January / 8.80 / h / ff / 71 / 10000\n"
     ]
    }
   ],
   "source": [
    "# 신식 방법 포맷 스트링, 여기는 2진수 가능 (90년대 경 발전)\n",
    "print('{0} / {1} / {2:.2f} / {3} / {4:x} / {5:o} / {6:b}'.format(iMonth, sMonth, fTaxRate, 'h', 255, 57, 16))"
   ]
  },
  {
   "cell_type": "code",
   "execution_count": 41,
   "metadata": {},
   "outputs": [
    {
     "name": "stdout",
     "output_type": "stream",
     "text": [
      "01 / January / 8.80 / H / FF\n"
     ]
    }
   ],
   "source": [
    "# 최신식 방법 포맷스트링 (python 3.6이후 개발, 2015년)\n",
    "print(f'{iMonth:02d} / {sMonth} / {fTaxRate:.2f} / {\"H\"} / {255:X}')"
   ]
  },
  {
   "cell_type": "markdown",
   "metadata": {},
   "source": [
    "2. input() 함수"
   ]
  },
  {
   "cell_type": "code",
   "execution_count": 44,
   "metadata": {},
   "outputs": [
    {
     "name": "stdout",
     "output_type": "stream",
     "text": [
      "1520\n"
     ]
    }
   ],
   "source": [
    "# 입력은 무조건 문자열(str), 문자열 + 시 문자열을 합쳐서 출력\n",
    "x = input()\n",
    "y = input()\n",
    "print(x+y)"
   ]
  },
  {
   "cell_type": "code",
   "execution_count": 45,
   "metadata": {},
   "outputs": [
    {
     "name": "stdout",
     "output_type": "stream",
     "text": [
      "55.3\n"
     ]
    }
   ],
   "source": [
    "# 계산을 원할 시 정수형 또는 실수형으로 바꿔줘야함\n",
    "x = int(input())\n",
    "y = float(input())\n",
    "print(x+y)"
   ]
  },
  {
   "cell_type": "code",
   "execution_count": 46,
   "metadata": {},
   "outputs": [
    {
     "name": "stdout",
     "output_type": "stream",
     "text": [
      "23.10 * 11.40 = 263.3400\n"
     ]
    }
   ],
   "source": [
    "# 입력 값이 두개 이상이면 map과 split를 활용할 것\n",
    "x, y = map(float, input('두 실수를 입력(구분자 스페이스) > ').split())\n",
    "print(f'{x:.2f} * {y:.2f} = {x * y:.4f}')"
   ]
  },
  {
   "cell_type": "markdown",
   "metadata": {},
   "source": [
    "## 3. 연산자\n",
    "- 사칙연산, 승수, 나머지의 경우 연산자 3개 "
   ]
  },
  {
   "cell_type": "code",
   "execution_count": 47,
   "metadata": {},
   "outputs": [
    {
     "name": "stdout",
     "output_type": "stream",
     "text": [
      "8 2 15 1.6666666666666667 1 2 125\n"
     ]
    }
   ],
   "source": [
    "# 산술연산\n",
    "a = 5; b = 3 # 여러줄 로직을 한줄에 작성할때\n",
    "a,b = 5, 3\n",
    "print(a + b, a - b, a * b, a/ b, a//b, a % b, a ** b)"
   ]
  },
  {
   "cell_type": "code",
   "execution_count": null,
   "metadata": {},
   "outputs": [],
   "source": []
  }
 ],
 "metadata": {
  "kernelspec": {
   "display_name": "Python 3",
   "language": "python",
   "name": "python3"
  },
  "language_info": {
   "codemirror_mode": {
    "name": "ipython",
    "version": 3
   },
   "file_extension": ".py",
   "mimetype": "text/x-python",
   "name": "python",
   "nbconvert_exporter": "python",
   "pygments_lexer": "ipython3",
   "version": "3.11.5"
  }
 },
 "nbformat": 4,
 "nbformat_minor": 2
}
