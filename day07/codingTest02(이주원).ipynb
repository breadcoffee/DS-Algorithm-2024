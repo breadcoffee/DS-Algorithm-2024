{
 "cells": [
  {
   "cell_type": "code",
   "execution_count": 9,
   "metadata": {},
   "outputs": [],
   "source": [
    "# file : codingTest02(이주원).ipynb\n",
    "# desc : 큐 테스트"
   ]
  },
  {
   "cell_type": "code",
   "execution_count": 10,
   "metadata": {},
   "outputs": [],
   "source": [
    "# Queue Full 함수\n",
    "def isQueueFull():\n",
    "    global SIZE, queue, front, rear\n",
    "    if rear != (SIZE - 1): # 큐가 아직 빈상태\n",
    "        return False\n",
    "    elif rear == (SIZE-1) and front == -1: # 큐가 가득찬 상태\n",
    "        return True\n",
    "    else: # 큐가 앞쪽이 비어있는 상태, rear가 끝까지 간 상태\n",
    "        return False"
   ]
  },
  {
   "cell_type": "code",
   "execution_count": 11,
   "metadata": {},
   "outputs": [],
   "source": [
    "# Queue Empty 확인 함수\n",
    "def isQueueEmpty():\n",
    "    global front, rear\n",
    "    if (front == rear):\n",
    "        return True\n",
    "    else:\n",
    "        return False"
   ]
  },
  {
   "cell_type": "code",
   "execution_count": 12,
   "metadata": {},
   "outputs": [],
   "source": [
    "# Queue 데이터 삽입 함수\n",
    "def enQueue(data):\n",
    "    global queue, rear\n",
    "    if isQueueFull():\n",
    "        print('대기줄이 가득찼습니다.')\n",
    "        return\n",
    "    else: \n",
    "        rear = (rear+1) % SIZE\n",
    "        queue[rear] = data"
   ]
  },
  {
   "cell_type": "code",
   "execution_count": 13,
   "metadata": {},
   "outputs": [],
   "source": [
    "# Queue 데이터 추출 함수\n",
    "def deQueue():\n",
    "    global SIZE, queue, front, rear\n",
    "    if isQueueEmpty() == True:\n",
    "        print('대기줄이 비어있습니다.')\n",
    "        return\n",
    "    else:\n",
    "        front = (front+1) % SIZE\n",
    "        data = queue[front]\n",
    "        queue[front] = None\n",
    "\n",
    "        while front != -1: # 이중 반복문으로 front가 -1이 될때까지 앞으로 당김\n",
    "            for i in range(front+1, SIZE):\n",
    "                queue[i-1] = queue[i] # front에다가 front+1의 값을 할당\n",
    "                queue[i] = None\n",
    "            front -= 1\n",
    "            rear -= 1\n",
    "\n",
    "        return data"
   ]
  },
  {
   "cell_type": "code",
   "execution_count": 14,
   "metadata": {},
   "outputs": [],
   "source": [
    "# 추출데이터 확인함수\n",
    "def peek():\n",
    "    global SIZE, queue, front, rear\n",
    "    if isQueueEmpty() == True:\n",
    "        print('대기줄이 비어있습니다.')\n",
    "        return\n",
    "    else:\n",
    "        return queue[(front+1) % SIZE]"
   ]
  },
  {
   "cell_type": "code",
   "execution_count": 15,
   "metadata": {},
   "outputs": [],
   "source": [
    "# 전역변수\n",
    "SIZE = 5\n",
    "queue = [None for _ in range(SIZE)]\n",
    "front = rear = -1"
   ]
  },
  {
   "cell_type": "code",
   "execution_count": 16,
   "metadata": {},
   "outputs": [
    {
     "name": "stdout",
     "output_type": "stream",
     "text": [
      "대기줄 상태 : ['정국', None, None, None, None]\n",
      "대기줄 상태 : ['정국', '뷔', None, None, None]\n",
      "대기줄 상태 : ['정국', '뷔', '지민', None, None]\n",
      "대기줄 상태 : ['정국', '뷔', '지민', '진', None]\n",
      "대기줄 상태 : ['정국', '뷔', '지민', '진', '슈가']\n",
      "대기줄이 가득찼습니다.\n",
      "대기줄 상태 : ['정국', '뷔', '지민', '진', '슈가']\n",
      "정국님 다음 입장순서입니다.\n",
      "대기줄 상태 : ['정국', '뷔', '지민', '진', '슈가']\n",
      "정국님 들어감\n",
      "대기줄 상태 : ['뷔', '지민', '진', '슈가', None]\n",
      "뷔님 들어감\n",
      "대기줄 상태 : ['지민', '진', '슈가', None, None]\n",
      "지민님 들어감\n",
      "대기줄 상태 : ['진', '슈가', None, None, None]\n",
      "진님 들어감\n",
      "대기줄 상태 : ['슈가', None, None, None, None]\n",
      "슈가님 들어감\n",
      "대기줄 상태 : [None, None, None, None, None]\n",
      "대기줄이 비어있습니다.\n",
      "대기줄이 비어있습니다.\n"
     ]
    }
   ],
   "source": [
    "# 메인코드\n",
    "if __name__ == '__main__':\n",
    "    while True:\n",
    "        select = input('대기줄 등록하기(1), 입장(2), 다음 순서확인(3), 종료(4) > ')\n",
    "\n",
    "        if select.lower() == '1':\n",
    "            data = input('이름을 입력해주세요 > ')\n",
    "            enQueue(data)\n",
    "            print(f'대기줄 상태 : {queue}')\n",
    "        elif select.lower() == '2':\n",
    "            data = deQueue()\n",
    "            if data != None:\n",
    "                print(f'{data}님 들어감')\n",
    "                print(f'대기줄 상태 : {queue}')\n",
    "        elif select.lower() == '3':\n",
    "            data = peek()\n",
    "            if data != None:\n",
    "                print(f'{data}님 다음 입장순서입니다.')\n",
    "                print(f'대기줄 상태 : {queue}')\n",
    "        elif select.lower() == '4':\n",
    "            break\n",
    "        else:\n",
    "            continue"
   ]
  }
 ],
 "metadata": {
  "kernelspec": {
   "display_name": "Python 3",
   "language": "python",
   "name": "python3"
  },
  "language_info": {
   "codemirror_mode": {
    "name": "ipython",
    "version": 3
   },
   "file_extension": ".py",
   "mimetype": "text/x-python",
   "name": "python",
   "nbconvert_exporter": "python",
   "pygments_lexer": "ipython3",
   "version": "3.11.5"
  }
 },
 "nbformat": 4,
 "nbformat_minor": 2
}
