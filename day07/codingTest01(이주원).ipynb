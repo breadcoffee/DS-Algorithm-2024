{
 "cells": [
  {
   "cell_type": "code",
   "execution_count": 1,
   "metadata": {},
   "outputs": [],
   "source": [
    "# file : codingTest01(이주원).ipynb\n",
    "# desc : 스택 테스트"
   ]
  },
  {
   "cell_type": "code",
   "execution_count": 2,
   "metadata": {},
   "outputs": [],
   "source": [
    "# 스택이 가득찼는지 확인하는 함수\n",
    "def noMoreSpace():\n",
    "    global SIZE, stack, top\n",
    "    if (top >= SIZE-1):\n",
    "        return True\n",
    "    else:\n",
    "        return False"
   ]
  },
  {
   "cell_type": "code",
   "execution_count": 3,
   "metadata": {},
   "outputs": [],
   "source": [
    "# 스택이 비어있는지 확인하는 함수    \n",
    "def nothing():\n",
    "    global stack, top\n",
    "    if (top == -1):\n",
    "        return True\n",
    "    else:\n",
    "        return False"
   ]
  },
  {
   "cell_type": "code",
   "execution_count": 4,
   "metadata": {},
   "outputs": [],
   "source": [
    "# 스택 데이터 삽입 함수\n",
    "def insert(data):\n",
    "    global stack, top\n",
    "    if (noMoreSpace()):\n",
    "        print('스택이 꽉 찼습니다.')\n",
    "        return\n",
    "    top += 1\n",
    "    stack[top] = data"
   ]
  },
  {
   "cell_type": "code",
   "execution_count": 5,
   "metadata": {},
   "outputs": [],
   "source": [
    "# 스택 추출 함수\n",
    "def takeOut():\n",
    "    global stack, top\n",
    "    if (nothing()):\n",
    "        print('스택이 비었습니다.')\n",
    "        return\n",
    "    data = stack[top]\n",
    "    stack[top] = None\n",
    "    top -= 1\n",
    "    return data"
   ]
  },
  {
   "cell_type": "code",
   "execution_count": 6,
   "metadata": {},
   "outputs": [],
   "source": [
    "# 스택 데이터 확인함수\n",
    "def search():\n",
    "    global stack, top\n",
    "    if (nothing()):\n",
    "        print('스택이 비었습니다.')\n",
    "        return\n",
    "    return stack[top]"
   ]
  },
  {
   "cell_type": "code",
   "execution_count": 8,
   "metadata": {},
   "outputs": [
    {
     "name": "stdout",
     "output_type": "stream",
     "text": [
      "스택상태 : ['1', None, None, None, None]\n",
      "스택상태 : ['1', '2', None, None, None]\n",
      "스택상태 : ['1', '2', '2', None, None]\n",
      "추출 데이터 : 2\n",
      "스택상태 : ['1', '2', None, None, None]\n",
      "추출 데이터 : 2\n",
      "스택상태 : ['1', None, None, None, None]\n",
      "확인 데이터 : 1\n",
      "스택상태 : ['1', None, None, None, None]\n",
      "확인 데이터 : 1\n",
      "스택상태 : ['1', None, None, None, None]\n"
     ]
    }
   ],
   "source": [
    "SIZE = 5\n",
    "stack = [None for _ in range(SIZE)]\n",
    "top = -1\n",
    "\n",
    "# 메인코드\n",
    "if __name__ == '__main__':\n",
    "    while True:\n",
    "        select = input('삽입(1), 꺼내기(2), 검색(3), 나가기(4) > ')\n",
    "\n",
    "        if select.lower() == '1':\n",
    "            data = input('입력데이터 >> ')\n",
    "            insert(data)\n",
    "            print(f'스택상태 : {stack}')\n",
    "\n",
    "        elif select.lower() == '2':\n",
    "            data = takeOut()\n",
    "            print(f'추출 데이터 : {data}')\n",
    "            print(f'스택상태 : {stack}')\n",
    "\n",
    "        elif select.lower() == '3':\n",
    "            data = search()\n",
    "            print(f'확인 데이터 : {data}')\n",
    "            print(f'스택상태 : {stack}')\n",
    "\n",
    "        elif select.lower() == '4':\n",
    "            break\n",
    "        else:\n",
    "            continue"
   ]
  }
 ],
 "metadata": {
  "kernelspec": {
   "display_name": "Python 3",
   "language": "python",
   "name": "python3"
  },
  "language_info": {
   "codemirror_mode": {
    "name": "ipython",
    "version": 3
   },
   "file_extension": ".py",
   "mimetype": "text/x-python",
   "name": "python",
   "nbconvert_exporter": "python",
   "pygments_lexer": "ipython3",
   "version": "3.11.5"
  }
 },
 "nbformat": 4,
 "nbformat_minor": 2
}
