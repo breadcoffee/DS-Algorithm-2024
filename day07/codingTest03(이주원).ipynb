{
 "cells": [
  {
   "cell_type": "code",
   "execution_count": 1,
   "metadata": {},
   "outputs": [],
   "source": [
    "# file : codingTest03(이주원).ipynb\n",
    "# desc : 이진 탐색 트리 테스트"
   ]
  },
  {
   "cell_type": "code",
   "execution_count": 2,
   "metadata": {},
   "outputs": [],
   "source": [
    "import random\n",
    "\n",
    "# 트리노드 클래스 선언\n",
    "class TreeNode():\n",
    "    left, data, right = None, None, None\n",
    "\n",
    "    def __init__(self) -> None:\n",
    "        self.left = self.right = self.data = None"
   ]
  },
  {
   "cell_type": "code",
   "execution_count": 3,
   "metadata": {},
   "outputs": [],
   "source": [
    "# 전위순회 함수\n",
    "def preorder(node):\n",
    "    if node == None: return\n",
    "\n",
    "    print(node.data, end=' ')\n",
    "    preorder(node.left)\n",
    "    preorder(node.right)"
   ]
  },
  {
   "cell_type": "code",
   "execution_count": 4,
   "metadata": {},
   "outputs": [],
   "source": [
    "# 전역변수\n",
    "root = None\n",
    "dataAry = {1:'바나나맛우유', 2:'레쓰비캔커피', 3:'츄파춥스', 4:'도시락', 5:'삼다수', 6:'코카콜라', 7:'삼각김밥'}\n",
    "sellAry = []"
   ]
  },
  {
   "cell_type": "code",
   "execution_count": 5,
   "metadata": {},
   "outputs": [
    {
     "name": "stdout",
     "output_type": "stream",
     "text": [
      "1:바나나맛우유, 2:레쓰비캔커피, 3:츄파춥스, 4:도시락, 5:삼다수, 6:코카콜라, 7:삼각김밥\n",
      "오늘 판매된 물건(중복 O)--> ['레쓰비캔커피']\n",
      "1:바나나맛우유, 2:레쓰비캔커피, 3:츄파춥스, 4:도시락, 5:삼다수, 6:코카콜라, 7:삼각김밥\n",
      "오늘 판매된 물건(중복 O)--> ['레쓰비캔커피', '바나나맛우유']\n",
      "1:바나나맛우유, 2:레쓰비캔커피, 3:츄파춥스, 4:도시락, 5:삼다수, 6:코카콜라, 7:삼각김밥\n",
      "오늘 판매된 물건(중복 O)--> ['레쓰비캔커피', '바나나맛우유', '바나나맛우유']\n",
      "1:바나나맛우유, 2:레쓰비캔커피, 3:츄파춥스, 4:도시락, 5:삼다수, 6:코카콜라, 7:삼각김밥\n",
      "오늘 판매된 물건(중복 O)--> ['레쓰비캔커피', '바나나맛우유', '바나나맛우유', '삼다수']\n",
      "오늘 판매된 종류(중복 X)--> 레쓰비캔커피 바나나맛우유 삼다수 None\n",
      "오늘 판매된 종류(중복 X)--> 레쓰비캔커피 바나나맛우유 삼다수 None\n"
     ]
    }
   ],
   "source": [
    "# 메인코드\n",
    "while True:\n",
    "    select = input('물건 구매(1), 판매된 종류 확인(2), 종료(3) > ')\n",
    "    if select.lower() == '1':\n",
    "        print('1:바나나맛우유, 2:레쓰비캔커피, 3:츄파춥스, 4:도시락, 5:삼다수, 6:코카콜라, 7:삼각김밥')\n",
    "        Menu = int(input('구매할 물건의 번호를 입력해주세요(1~7) > '))\n",
    "        if (Menu == 1 or Menu == 2 or Menu == 3 or Menu == 4 or Menu == 5 or Menu == 6 or Menu == 7):\n",
    "            sellAry.append(dataAry[Menu])\n",
    "            print(f'오늘 판매된 물건(중복 O)--> {sellAry}')\n",
    "            node = TreeNode()\n",
    "            node.data = sellAry[0]\n",
    "            root = node\n",
    "        else:\n",
    "            print('해당하는 메뉴가 없습니다.')\n",
    "    elif select.lower() == '2':\n",
    "        # 트리 구성\n",
    "        for name in sellAry[1:]: # 판매된 제품 처음부터 끝까지\n",
    "            node = TreeNode()\n",
    "            node.data = name\n",
    "\n",
    "            curr = root\n",
    "            while True:\n",
    "                if name == curr.data: # 중복된 제품이 있으면 제거\n",
    "                    break\n",
    "                elif name < curr.data: # 왼쪽 트리로\n",
    "                    if curr.left == None: # 왼쪽 노드에 트리가 구성되어있지않다면\n",
    "                        curr.left = node\n",
    "                        break # while문 탈출 \n",
    "                    else:\n",
    "                        curr = curr.left\n",
    "                elif name > curr.data: # 오른쪽 트리로\n",
    "                    if curr.right == None: # 오른쪽 노드에 트리가 구성되어있지않다면\n",
    "                        curr.right = node\n",
    "                        break\n",
    "                    else:\n",
    "                        curr = curr.right\n",
    "                else:\n",
    "                    break\n",
    "        print(f'오늘 판매된 종류(중복 X)-->', end=' ')\n",
    "        print(preorder(root))\n",
    "    elif select.lower() == '3':\n",
    "        break\n",
    "    else:\n",
    "        continue"
   ]
  }
 ],
 "metadata": {
  "kernelspec": {
   "display_name": "Python 3",
   "language": "python",
   "name": "python3"
  },
  "language_info": {
   "codemirror_mode": {
    "name": "ipython",
    "version": 3
   },
   "file_extension": ".py",
   "mimetype": "text/x-python",
   "name": "python",
   "nbconvert_exporter": "python",
   "pygments_lexer": "ipython3",
   "version": "3.11.5"
  }
 },
 "nbformat": 4,
 "nbformat_minor": 2
}
