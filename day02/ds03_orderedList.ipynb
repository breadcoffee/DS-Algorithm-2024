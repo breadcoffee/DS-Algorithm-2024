{
 "cells": [
  {
   "cell_type": "code",
   "execution_count": 107,
   "metadata": {},
   "outputs": [],
   "source": [
    "# file : ds03_orderedList.ipynb\n",
    "# desc : 선형리스트"
   ]
  },
  {
   "cell_type": "markdown",
   "metadata": {},
   "source": [
    "## 자료구조와 알고리즘\n",
    "\n",
    "- 선형리스트\n",
    "\n",
    "### 1. 선형리스트 개념 및 내용\n",
    "- 파이썬의 리스트는 일반적인 프로그래밍의 배열과 다름\n",
    "- 파이썬은 성능 문제로 배열과 리스트를 리스트 하나로 통합 사용"
   ]
  },
  {
   "cell_type": "code",
   "execution_count": 108,
   "metadata": {},
   "outputs": [],
   "source": [
    "kakaotalk = [200, 150, 90, 30, 15]"
   ]
  },
  {
   "cell_type": "code",
   "execution_count": 109,
   "metadata": {},
   "outputs": [
    {
     "name": "stdout",
     "output_type": "stream",
     "text": [
      "140712246443016\n",
      "150\n"
     ]
    }
   ],
   "source": [
    "print(id(kakaotalk[0])) # id() 메모리에 저장된 주소를 10진수 표현\n",
    "print(kakaotalk[1])"
   ]
  },
  {
   "cell_type": "markdown",
   "metadata": {},
   "source": [
    "### 2. 선형 리스트 구현\n",
    "- 파이썬에서 실제로 이렇게 복잡하게 구현 할 필요없음\n",
    "- 배열(단순 선현리스트)를 이해하기 위해 만든 예제"
   ]
  },
  {
   "cell_type": "code",
   "execution_count": 110,
   "metadata": {},
   "outputs": [],
   "source": [
    "kakaotalk = [] # 빈 배열 생성\n",
    "\n",
    "def add_data(friend):\n",
    "    kakaotalk.append(None) # 배열 빈 공간을 생성\n",
    "    size = len(kakaotalk) # 배열 전체 크기\n",
    "    kakaotalk[size-1] = friend"
   ]
  },
  {
   "cell_type": "code",
   "execution_count": 111,
   "metadata": {},
   "outputs": [
    {
     "name": "stdout",
     "output_type": "stream",
     "text": [
      "['다현', '정연', '쯔위', '사나', '지효']\n"
     ]
    }
   ],
   "source": [
    "add_data('다현') # 과거에는 하나하나 데이터를 이렇게 넣어주었음\n",
    "add_data('정연')\n",
    "add_data('쯔위')\n",
    "add_data('사나')\n",
    "add_data('지효')\n",
    "\n",
    "print(kakaotalk)"
   ]
  },
  {
   "cell_type": "code",
   "execution_count": 112,
   "metadata": {},
   "outputs": [],
   "source": [
    "# kakaotalk.insert(, '솔라') 동일\n",
    "# 데이터 삽입함수\n",
    "\n",
    "def insert_data(pos, friend):\n",
    "    if pos < 0 or pos >= len(kakaotalk):\n",
    "        print('데이터 삽입범위 초과')\n",
    "        return # 함수를 빠져나감\n",
    "    \n",
    "    # 정상적인 처리 시작\n",
    "    kakaotalk.append(None) # 배열 빈 공간을 생성\n",
    "    size = len(kakaotalk) # 배열 전체 크기\n",
    "    for i in range(size-1, pos, -1): #역순으로 size 맨뒤부터 pos까지 -1씩\n",
    "        kakaotalk[i] = kakaotalk[i-1]\n",
    "        kakaotalk[i-1] = None\n",
    "    \n",
    "    kakaotalk[pos] = friend"
   ]
  },
  {
   "cell_type": "code",
   "execution_count": 113,
   "metadata": {},
   "outputs": [
    {
     "name": "stdout",
     "output_type": "stream",
     "text": [
      "['다현', '정연', '솔라', '쯔위', '사나', '지효']\n"
     ]
    }
   ],
   "source": [
    "# 데이터 삽입\n",
    "insert_data(2, '솔라')\n",
    "print(kakaotalk)"
   ]
  },
  {
   "cell_type": "code",
   "execution_count": 114,
   "metadata": {},
   "outputs": [],
   "source": [
    "# 데이터 삭제\n",
    "def delete_data(pos): # 데이터 삭제시는 위치값만 사용\n",
    "    if pos < 0 or pos >= len(kakaotalk):\n",
    "        print('데이터 삽입범위 초과')\n",
    "        return # 함수를 빠져나감\n",
    "    \n",
    "    size = len(kakaotalk)\n",
    "    kakaotalk[pos] = None # 데이터 삭제\n",
    "\n",
    "    for i in range(pos+1, size):\n",
    "        kakaotalk[i-1] = kakaotalk[i] # 뒤에 값을 앞으로\n",
    "        kakaotalk[i] = None\n",
    "\n",
    "    del(kakaotalk[size-1]) # 배열의 맨 마지막값 삭제"
   ]
  },
  {
   "cell_type": "code",
   "execution_count": 115,
   "metadata": {},
   "outputs": [
    {
     "name": "stdout",
     "output_type": "stream",
     "text": [
      "['다현', '정연', '솔라', '사나', '지효']\n"
     ]
    }
   ],
   "source": [
    "## 데이터 삭제\n",
    "delete_data(3)\n",
    "print(kakaotalk)"
   ]
  }
 ],
 "metadata": {
  "kernelspec": {
   "display_name": "Python 3",
   "language": "python",
   "name": "python3"
  },
  "language_info": {
   "codemirror_mode": {
    "name": "ipython",
    "version": 3
   },
   "file_extension": ".py",
   "mimetype": "text/x-python",
   "name": "python",
   "nbconvert_exporter": "python",
   "pygments_lexer": "ipython3",
   "version": "3.11.5"
  }
 },
 "nbformat": 4,
 "nbformat_minor": 2
}
